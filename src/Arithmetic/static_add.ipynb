{
 "cells": [
  {
   "cell_type": "markdown",
   "metadata": {},
   "source": [
    "## Dataset"
   ]
  },
  {
   "cell_type": "code",
   "execution_count": 9,
   "metadata": {},
   "outputs": [],
   "source": [
    "import torch\n",
    "from torch.utils.data import Dataset\n",
    "from torch.utils.data.dataloader import DataLoader\n",
    "from mingpt.utils import set_seed\n",
    "set_seed(3407)"
   ]
  },
  {
   "cell_type": "code",
   "execution_count": 10,
   "metadata": {},
   "outputs": [
    {
     "name": "stdout",
     "output_type": "stream",
     "text": [
      "[0, 6, 2, 5, 3, 6, 0, 5, 9, 8]\n",
      "[4, 9, 5, 3, 7, 8, 0, 8, 7, 3]\n",
      "[6, 4, 4, 3, 1, 4, 0, 9, 5, 8]\n",
      "[3, 5, 9, 1, 1, 9, 0, 4, 7, 8]\n",
      "[3, 5, 0, 1, 4, 8, 0, 4, 9, 8]\n",
      "[0, 0, 2, 9, 3, 7, 0, 9, 3, 9]\n",
      "[8, 4, 8, 2, 3, 7, 1, 0, 8, 5]\n",
      "[9, 9, 9, 7, 0, 6, 1, 7, 0, 5]\n",
      "[7, 4, 5, 1, 3, 6, 0, 8, 8, 1]\n",
      "[1, 0, 1, 0, 4, 2, 0, 1, 4, 3]\n"
     ]
    }
   ],
   "source": [
    "import random\n",
    "\n",
    "def random_add_instance(length):\n",
    "    a = [random.randint(0,9) for i in range(length)]\n",
    "    b = [random.randint(0,9) for i in range(length)]\n",
    "    val_a = int(''.join(str(d) for d in a))\n",
    "    val_b = int(''.join(str(d) for d in b))\n",
    "    val_c = val_a + val_b\n",
    "    str_c = str(val_c)\n",
    "    str_c = (length + 1 - len(str_c)) * '0' + str_c\n",
    "    return a + b + [int(d) for d in str_c]\n",
    "\n",
    "for i in range(10):\n",
    "    print (random_add_instance(3))\n",
    "\n"
   ]
  },
  {
   "cell_type": "code",
   "execution_count": 11,
   "metadata": {},
   "outputs": [],
   "source": [
    "class AddDataset(Dataset):\n",
    "    \"\"\" \n",
    "    Dataset for the Add problem. E.g. for problem length 3:\n",
    "    12 + 333 = 345\n",
    "    Input: 0 1 2 3 3 3 -> Output: 0 3 4 5\n",
    "    Which will feed into the transformer concatenated as:\n",
    "    input:  0 1 2 3 3 3 0 3 4\n",
    "    output: I I I I I 0 3 4 5\n",
    "    where I is \"ignore\", as the transformer is reading the input sequence\n",
    "    \"\"\"\n",
    "\n",
    "    def __init__(self, split, length=3):\n",
    "        assert split in {'train', 'test'}\n",
    "        self.split = split\n",
    "        self.length = length\n",
    "    \n",
    "    def __len__(self):\n",
    "        return 10000 # ...\n",
    "    \n",
    "    def get_vocab_size(self):\n",
    "        return 10\n",
    "    \n",
    "    def get_block_size(self):\n",
    "        # the length of the sequence that will feed into transformer, \n",
    "        # containing concatenated input and the output, but -1 because\n",
    "        # the transformer starts making predictions at the last input element\n",
    "        return 3 * self.length + 1 - 1\n",
    "\n",
    "    def __getitem__(self, idx):\n",
    "        while True:\n",
    "            rai = random_add_instance(self.length)\n",
    "            h = hash(str(rai[:2*self.length]))\n",
    "            \n",
    "            inp_split = 'test' if h % 4 == 0 else 'train' # designate 25% of examples as test\n",
    "            if inp_split == self.split:\n",
    "                break # ok\n",
    "        \n",
    "        x = torch.tensor(rai[:-1], dtype=torch.long)\n",
    "        y = torch.tensor(rai[1:], dtype=torch.long)\n",
    "        \n",
    "        # we only want to predict at output locations, mask out the loss at the input locations\n",
    "        y[:2*self.length-1] = -1\n",
    "        return x, y"
   ]
  },
  {
   "cell_type": "code",
   "execution_count": 12,
   "metadata": {},
   "outputs": [
    {
     "name": "stdout",
     "output_type": "stream",
     "text": [
      "tensor([2, 9, 3, 4, 8, 0, 0, 7, 7])\n",
      "2 -1\n",
      "9 -1\n",
      "3 -1\n",
      "4 -1\n",
      "8 -1\n",
      "0 0\n",
      "0 7\n",
      "7 7\n",
      "7 3\n"
     ]
    }
   ],
   "source": [
    "# print an example instance of the dataset\n",
    "train_dataset = AddDataset('train')\n",
    "test_dataset = AddDataset('test')\n",
    "x, y = train_dataset[0]\n",
    "\n",
    "print (x)\n",
    "for a, b in zip(x,y):\n",
    "    print(int(a),int(b))"
   ]
  },
  {
   "cell_type": "markdown",
   "metadata": {},
   "source": [
    "## Model"
   ]
  },
  {
   "cell_type": "code",
   "execution_count": 62,
   "metadata": {},
   "outputs": [
    {
     "name": "stdout",
     "output_type": "stream",
     "text": [
      "model_type: None\n",
      "n_layer: 4\n",
      "n_head: 1\n",
      "n_embd: 128\n",
      "vocab_size: None\n",
      "block_size: None\n",
      "embd_pdrop: 0.1\n",
      "resid_pdrop: 0.1\n",
      "attn_pdrop: 0.1\n",
      "\n",
      "number of parameters: 0.80M\n"
     ]
    }
   ],
   "source": [
    "# create a GPT instance\n",
    "from mingpt.model import GPT\n",
    "\n",
    "HEADS = 1\n",
    "LAYERS = 4\n",
    "EMBEDDING_DIM = 128\n",
    "\n",
    "model_config = GPT.get_default_config()\n",
    "model_config.model_type = None\n",
    "# model_config.merge_from_dict({\"model_type\": None,\n",
    "                            #   \"n_heads\": 4})\n",
    "model_config.n_head = HEADS\n",
    "model_config.n_layer = LAYERS\n",
    "model_config.n_embd = EMBEDDING_DIM\n",
    "print (model_config)\n",
    "# model_config.model_type = 'gpt-nano'\n",
    "\n",
    "model_config.vocab_size = train_dataset.get_vocab_size()\n",
    "model_config.block_size = train_dataset.get_block_size()\n",
    "model = GPT(model_config)"
   ]
  },
  {
   "cell_type": "code",
   "execution_count": 61,
   "metadata": {},
   "outputs": [
    {
     "name": "stderr",
     "output_type": "stream",
     "text": [
      "/tmp/ipykernel_9066/285897140.py:6: FutureWarning: You are using `torch.load` with `weights_only=False` (the current default value), which uses the default pickle module implicitly. It is possible to construct malicious pickle data which will execute arbitrary code during unpickling (See https://github.com/pytorch/pytorch/blob/main/SECURITY.md#untrusted-models for more details). In a future release, the default value for `weights_only` will be flipped to `True`. This limits the functions that could be executed during unpickling. Arbitrary objects will no longer be allowed to be loaded via this mode unless they are explicitly allowlisted by the user via `torch.serialization.add_safe_globals`. We recommend you start setting `weights_only=True` for any use case where you don't have full control of the loaded file. Please open an issue on GitHub for any issues related to this experimental feature.\n",
      "  model.load_state_dict(torch.load(f'../weights/static/st_add_{HEADS}_{LAYERS}_{EMBEDDING_DIM}.pth', map_location=device))\n"
     ]
    }
   ],
   "source": [
    "import os\n",
    "\n",
    "device = torch.device(\"cuda\" if torch.cuda.is_available() else \"cpu\")\n",
    "\n",
    "if os.path.exists(f'../weights/static/st_add_{HEADS}_{LAYERS}_{EMBEDDING_DIM}.pth'):\n",
    "    model.load_state_dict(torch.load(f'../weights/static/st_add_{HEADS}_{LAYERS}_{EMBEDDING_DIM}.pth', map_location=device))\n",
    "    # print(model_config.n_heads, model_config.n_layers, model_config.n_embd)\n"
   ]
  },
  {
   "cell_type": "code",
   "execution_count": 65,
   "metadata": {},
   "outputs": [
    {
     "name": "stdout",
     "output_type": "stream",
     "text": [
      "running on device cuda\n"
     ]
    }
   ],
   "source": [
    "# create a Trainer object\n",
    "from mingpt.trainer import Trainer\n",
    "\n",
    "train_config = Trainer.get_default_config()\n",
    "train_config.learning_rate = 1e-8 # the model we're using is so small that we can go a bit faster\n",
    "train_config.max_iters = 5000\n",
    "train_config.num_workers = 0\n",
    "trainer = Trainer(train_config, model, train_dataset)"
   ]
  },
  {
   "cell_type": "markdown",
   "metadata": {},
   "source": [
    "## Training"
   ]
  },
  {
   "cell_type": "code",
   "execution_count": 66,
   "metadata": {},
   "outputs": [
    {
     "name": "stdout",
     "output_type": "stream",
     "text": [
      "iter_dt 0.00ms; iter 0: train loss 0.66380\n",
      "iter_dt 11.49ms; iter 100: train loss 0.75406\n",
      "iter_dt 10.77ms; iter 200: train loss 0.63195\n",
      "iter_dt 10.71ms; iter 300: train loss 0.69717\n",
      "iter_dt 11.45ms; iter 400: train loss 0.70431\n",
      "iter_dt 11.42ms; iter 500: train loss 0.69730\n",
      "iter_dt 12.32ms; iter 600: train loss 0.69624\n",
      "iter_dt 11.56ms; iter 700: train loss 0.71214\n",
      "iter_dt 12.10ms; iter 800: train loss 0.70718\n",
      "iter_dt 11.55ms; iter 900: train loss 0.68875\n",
      "iter_dt 10.88ms; iter 1000: train loss 0.69067\n",
      "iter_dt 11.95ms; iter 1100: train loss 0.67345\n",
      "iter_dt 13.29ms; iter 1200: train loss 0.67407\n",
      "iter_dt 11.29ms; iter 1300: train loss 0.69311\n",
      "iter_dt 12.77ms; iter 1400: train loss 0.68847\n",
      "iter_dt 11.23ms; iter 1500: train loss 0.65660\n",
      "iter_dt 11.29ms; iter 1600: train loss 0.65595\n",
      "iter_dt 11.01ms; iter 1700: train loss 0.69083\n",
      "iter_dt 12.54ms; iter 1800: train loss 0.65934\n",
      "iter_dt 10.72ms; iter 1900: train loss 0.71100\n",
      "iter_dt 13.26ms; iter 2000: train loss 0.68162\n",
      "iter_dt 10.75ms; iter 2100: train loss 0.66563\n",
      "iter_dt 10.95ms; iter 2200: train loss 0.72216\n",
      "iter_dt 10.70ms; iter 2300: train loss 0.69212\n",
      "iter_dt 10.74ms; iter 2400: train loss 0.68982\n",
      "iter_dt 10.60ms; iter 2500: train loss 0.68238\n",
      "iter_dt 11.99ms; iter 2600: train loss 0.65323\n",
      "iter_dt 11.42ms; iter 2700: train loss 0.68837\n",
      "iter_dt 11.00ms; iter 2800: train loss 0.67293\n",
      "iter_dt 10.67ms; iter 2900: train loss 0.70537\n",
      "iter_dt 10.46ms; iter 3000: train loss 0.71908\n",
      "iter_dt 11.20ms; iter 3100: train loss 0.72019\n",
      "iter_dt 10.99ms; iter 3200: train loss 0.67109\n",
      "iter_dt 10.81ms; iter 3300: train loss 0.69324\n",
      "iter_dt 10.72ms; iter 3400: train loss 0.68096\n",
      "iter_dt 12.13ms; iter 3500: train loss 0.68332\n",
      "iter_dt 11.67ms; iter 3600: train loss 0.66370\n",
      "iter_dt 11.58ms; iter 3700: train loss 0.72114\n",
      "iter_dt 11.98ms; iter 3800: train loss 0.66884\n",
      "iter_dt 11.06ms; iter 3900: train loss 0.67298\n",
      "iter_dt 11.44ms; iter 4000: train loss 0.67413\n",
      "iter_dt 14.54ms; iter 4100: train loss 0.71774\n",
      "iter_dt 10.53ms; iter 4200: train loss 0.68428\n",
      "iter_dt 10.59ms; iter 4300: train loss 0.66386\n",
      "iter_dt 11.29ms; iter 4400: train loss 0.70975\n",
      "iter_dt 11.56ms; iter 4500: train loss 0.65207\n",
      "iter_dt 10.78ms; iter 4600: train loss 0.65234\n",
      "iter_dt 10.97ms; iter 4700: train loss 0.66658\n",
      "iter_dt 11.25ms; iter 4800: train loss 0.72280\n",
      "iter_dt 11.22ms; iter 4900: train loss 0.68786\n"
     ]
    }
   ],
   "source": [
    "def batch_end_callback(trainer):\n",
    "    if trainer.iter_num % 100 == 0:\n",
    "        print(f\"iter_dt {trainer.iter_dt * 1000:.2f}ms; iter {trainer.iter_num}: train loss {trainer.loss.item():.5f}\")\n",
    "trainer.set_callback('on_batch_end', batch_end_callback)\n",
    "\n",
    "trainer.run()"
   ]
  },
  {
   "cell_type": "markdown",
   "metadata": {},
   "source": [
    "## Training Evaluation"
   ]
  },
  {
   "cell_type": "code",
   "execution_count": 67,
   "metadata": {},
   "outputs": [],
   "source": [
    "# now let's perform some evaluation\n",
    "model.eval()\n",
    "None"
   ]
  },
  {
   "cell_type": "code",
   "execution_count": 68,
   "metadata": {},
   "outputs": [
    {
     "name": "stdout",
     "output_type": "stream",
     "text": [
      "train final score: 985/10000 = 9.85% correct\n",
      "test final score: 930/10000 = 9.30% correct\n"
     ]
    }
   ],
   "source": [
    "c_vals = []\n",
    "w_vals = []\n",
    "\n",
    "def eval_add_split(trainer, split, max_batches):\n",
    "    dataset = {'train':train_dataset, 'test':test_dataset}[split]\n",
    "    n = train_dataset.length # naugy direct access shrug\n",
    "    results = []\n",
    "    mistakes_printed_already = 0\n",
    "    loader = DataLoader(dataset, batch_size=100, num_workers=0, drop_last=False)\n",
    "    #loader = DataLoader(dataset, batch_size=1, num_workers=0, drop_last=False)\n",
    "    for b, (x, y) in enumerate(loader):\n",
    "        x = x.to(trainer.device)\n",
    "        y = y.to(trainer.device)\n",
    "\n",
    "        inp = x[:, :2*n]\n",
    "        sol = y[:, -n-1:]\n",
    "        \n",
    "        cat = model.generate(inp, n+1, do_sample=False) # using greedy argmax, not sampling\n",
    "        sol_candidate = cat[:, -n-1:]         \n",
    "        correct = (sol == sol_candidate).all(1).cpu() \n",
    "        incorrect = ~correct\n",
    "        # print(\"Incorrect:\", incorrect)\n",
    "        c_vals.extend(sol[incorrect].tolist())\n",
    "        w_vals.extend(sol_candidate[incorrect].tolist())\n",
    "        # print(sol[incorrect].tolist())\n",
    "        # mae = (sol[incorrect] - sol_candidate[incorrect])\n",
    "        # print(mae.tolist())\n",
    "        # errors.extend(mae.tolist())\n",
    "        for i in range(x.size(0)):\n",
    "            results.append(int(correct[i]))\n",
    "    \n",
    "    rt = torch.tensor(results, dtype=torch.float)\n",
    "    print(\"%s final score: %d/%d = %.2f%% correct\" % (split, rt.sum(), len(results), 100*rt.mean()))\n",
    "    return rt.sum()\n",
    "\n",
    "# run a lot of examples from both train and test through the model and verify the output correctness\n",
    "with torch.no_grad():\n",
    "    train_score = eval_add_split(trainer, 'train', max_batches=50)\n",
    "    test_score  = eval_add_split(trainer, 'test',  max_batches=50)"
   ]
  },
  {
   "cell_type": "code",
   "execution_count": 20,
   "metadata": {},
   "outputs": [],
   "source": [
    "errors = []\n",
    "\n",
    "for c, w in zip(c_vals, w_vals):\n",
    "    a = int(''.join(str(d) for d in c))\n",
    "    b = int(''.join(str(d) for d in w))\n",
    "    # print(a, b)\n",
    "    # print(abs(a-b))\n",
    "    errors.append(abs(a-b))"
   ]
  },
  {
   "cell_type": "code",
   "execution_count": 21,
   "metadata": {},
   "outputs": [
    {
     "data": {
      "image/png": "[encoded data removed]",
      "text/plain": [
       "<Figure size 640x480 with 1 Axes>"
      ]
     },
     "metadata": {},
     "output_type": "display_data"
    }
   ],
   "source": [
    "import matplotlib.pyplot as plt\n",
    "\n",
    "# print (errors)\n",
    "\n",
    "plt.hist(errors)\n",
    "# plt.xticks([0, 10, 20, 30, 40, 50, 60, 70, 80, 90, 100, 110])\n",
    "plt.show()"
   ]
  },
  {
   "cell_type": "code",
   "execution_count": 45,
   "metadata": {},
   "outputs": [],
   "source": [
    "torch.save(model.state_dict(), f'../weights/static/st_add_{HEADS}_{LAYERS}_{EMBEDDING_DIM}.pth')"
   ]
  },
  {
   "cell_type": "markdown",
   "metadata": {},
   "source": [
    "## Evaluation"
   ]
  },
  {
   "cell_type": "code",
   "execution_count": 56,
   "metadata": {},
   "outputs": [
    {
     "name": "stdout",
     "output_type": "stream",
     "text": [
      "model_type: None\n",
      "n_layer: 1\n",
      "n_head: 1\n",
      "n_embd: 128\n",
      "vocab_size: 10\n",
      "block_size: 9\n",
      "embd_pdrop: 0.1\n",
      "resid_pdrop: 0.1\n",
      "attn_pdrop: 0.1\n",
      "\n",
      "number of parameters: 0.20M\n",
      "running on device cuda\n"
     ]
    },
    {
     "name": "stderr",
     "output_type": "stream",
     "text": [
      "/tmp/ipykernel_9066/2869324181.py:21: FutureWarning: You are using `torch.load` with `weights_only=False` (the current default value), which uses the default pickle module implicitly. It is possible to construct malicious pickle data which will execute arbitrary code during unpickling (See https://github.com/pytorch/pytorch/blob/main/SECURITY.md#untrusted-models for more details). In a future release, the default value for `weights_only` will be flipped to `True`. This limits the functions that could be executed during unpickling. Arbitrary objects will no longer be allowed to be loaded via this mode unless they are explicitly allowlisted by the user via `torch.serialization.add_safe_globals`. We recommend you start setting `weights_only=True` for any use case where you don't have full control of the loaded file. Please open an issue on GitHub for any issues related to this experimental feature.\n",
      "  model.load_state_dict(torch.load(f'../weights/static/st_add_{heads}_{layers}_{128}.pth', map_location=device))\n"
     ]
    },
    {
     "name": "stdout",
     "output_type": "stream",
     "text": [
      "test final score: 6302/10000 = 63.02% correct\n",
      "model_type: None\n",
      "n_layer: 2\n",
      "n_head: 1\n",
      "n_embd: 128\n",
      "vocab_size: 10\n",
      "block_size: 9\n",
      "embd_pdrop: 0.1\n",
      "resid_pdrop: 0.1\n",
      "attn_pdrop: 0.1\n",
      "\n",
      "number of parameters: 0.40M\n",
      "running on device cuda\n",
      "test final score: 6860/10000 = 68.60% correct\n",
      "model_type: None\n",
      "n_layer: 3\n",
      "n_head: 1\n",
      "n_embd: 128\n",
      "vocab_size: 10\n",
      "block_size: 9\n",
      "embd_pdrop: 0.1\n",
      "resid_pdrop: 0.1\n",
      "attn_pdrop: 0.1\n",
      "\n",
      "number of parameters: 0.60M\n",
      "running on device cuda\n",
      "test final score: 9367/10000 = 93.67% correct\n",
      "model_type: None\n",
      "n_layer: 4\n",
      "n_head: 1\n",
      "n_embd: 128\n",
      "vocab_size: 10\n",
      "block_size: 9\n",
      "embd_pdrop: 0.1\n",
      "resid_pdrop: 0.1\n",
      "attn_pdrop: 0.1\n",
      "\n",
      "number of parameters: 0.80M\n",
      "running on device cuda\n",
      "test final score: 979/10000 = 9.79% correct\n",
      "model_type: None\n",
      "n_layer: 1\n",
      "n_head: 2\n",
      "n_embd: 128\n",
      "vocab_size: 10\n",
      "block_size: 9\n",
      "embd_pdrop: 0.1\n",
      "resid_pdrop: 0.1\n",
      "attn_pdrop: 0.1\n",
      "\n",
      "number of parameters: 0.20M\n",
      "running on device cuda\n",
      "test final score: 3936/10000 = 39.36% correct\n",
      "model_type: None\n",
      "n_layer: 2\n",
      "n_head: 2\n",
      "n_embd: 128\n",
      "vocab_size: 10\n",
      "block_size: 9\n",
      "embd_pdrop: 0.1\n",
      "resid_pdrop: 0.1\n",
      "attn_pdrop: 0.1\n",
      "\n",
      "number of parameters: 0.40M\n",
      "running on device cuda\n",
      "test final score: 9558/10000 = 95.58% correct\n",
      "model_type: None\n",
      "n_layer: 3\n",
      "n_head: 2\n",
      "n_embd: 128\n",
      "vocab_size: 10\n",
      "block_size: 9\n",
      "embd_pdrop: 0.1\n",
      "resid_pdrop: 0.1\n",
      "attn_pdrop: 0.1\n",
      "\n",
      "number of parameters: 0.60M\n",
      "running on device cuda\n",
      "test final score: 9808/10000 = 98.08% correct\n",
      "model_type: None\n",
      "n_layer: 4\n",
      "n_head: 2\n",
      "n_embd: 128\n",
      "vocab_size: 10\n",
      "block_size: 9\n",
      "embd_pdrop: 0.1\n",
      "resid_pdrop: 0.1\n",
      "attn_pdrop: 0.1\n",
      "\n",
      "number of parameters: 0.80M\n",
      "running on device cuda\n",
      "test final score: 9788/10000 = 97.88% correct\n",
      "model_type: None\n",
      "n_layer: 1\n",
      "n_head: 4\n",
      "n_embd: 128\n",
      "vocab_size: 10\n",
      "block_size: 9\n",
      "embd_pdrop: 0.1\n",
      "resid_pdrop: 0.1\n",
      "attn_pdrop: 0.1\n",
      "\n",
      "number of parameters: 0.20M\n",
      "running on device cuda\n",
      "test final score: 6284/10000 = 62.84% correct\n",
      "model_type: None\n",
      "n_layer: 2\n",
      "n_head: 4\n",
      "n_embd: 128\n",
      "vocab_size: 10\n",
      "block_size: 9\n",
      "embd_pdrop: 0.1\n",
      "resid_pdrop: 0.1\n",
      "attn_pdrop: 0.1\n",
      "\n",
      "number of parameters: 0.40M\n",
      "running on device cuda\n",
      "test final score: 9721/10000 = 97.21% correct\n",
      "model_type: None\n",
      "n_layer: 3\n",
      "n_head: 4\n",
      "n_embd: 128\n",
      "vocab_size: 10\n",
      "block_size: 9\n",
      "embd_pdrop: 0.1\n",
      "resid_pdrop: 0.1\n",
      "attn_pdrop: 0.1\n",
      "\n",
      "number of parameters: 0.60M\n",
      "running on device cuda\n",
      "test final score: 9650/10000 = 96.50% correct\n",
      "model_type: None\n",
      "n_layer: 4\n",
      "n_head: 4\n",
      "n_embd: 128\n",
      "vocab_size: 10\n",
      "block_size: 9\n",
      "embd_pdrop: 0.1\n",
      "resid_pdrop: 0.1\n",
      "attn_pdrop: 0.1\n",
      "\n",
      "number of parameters: 0.80M\n",
      "running on device cuda\n",
      "test final score: 9883/10000 = 98.83% correct\n"
     ]
    }
   ],
   "source": [
    "accuracy = []\n",
    "\n",
    "heads_unique = [1, 2, 4]\n",
    "layers_unique = [1, 2, 3, 4]\n",
    "\n",
    "for heads in heads_unique:\n",
    "    h_s = []\n",
    "    for layers in layers_unique:\n",
    "        model_config = GPT.get_default_config()\n",
    "        model_config.model_type = None\n",
    "        model_config.n_head = heads\n",
    "        model_config.n_layer = layers\n",
    "        model_config.n_embd = 128\n",
    "        model_config.vocab_size = train_dataset.get_vocab_size()\n",
    "        model_config.block_size = train_dataset.get_block_size()\n",
    "        print (model_config)\n",
    "        model = GPT(model_config)\n",
    "\n",
    "\n",
    "        device = torch.device(\"cuda\" if torch.cuda.is_available() else \"cpu\")\n",
    "        model.load_state_dict(torch.load(f'../weights/static/st_add_{heads}_{layers}_{128}.pth', map_location=device))\n",
    "\n",
    "        train_config = Trainer.get_default_config()\n",
    "        train_config.learning_rate = 1e-4 # the model we're using is so small that we can go a bit faster\n",
    "        train_config.max_iters = 5000\n",
    "        train_config.num_workers = 0\n",
    "        trainer = Trainer(train_config, model, train_dataset)\n",
    "\n",
    "        model.eval()\n",
    "\n",
    "        with torch.no_grad():\n",
    "            test_score  = eval_add_split(trainer, 'test',  max_batches=50)\n",
    "\n",
    "        h_s.append(test_score.item())\n",
    "    accuracy.append(h_s)\n"
   ]
  },
  {
   "cell_type": "code",
   "execution_count": 59,
   "metadata": {},
   "outputs": [
    {
     "name": "stdout",
     "output_type": "stream",
     "text": [
      "[[6302.0, 6860.0, 9367.0, 979.0], [3936.0, 9558.0, 9808.0, 9788.0], [6284.0, 9721.0, 9650.0, 9883.0]]\n"
     ]
    },
    {
     "name": "stderr",
     "output_type": "stream",
     "text": [
      "/tmp/ipykernel_9066/3341687491.py:18: UserWarning: set_ticklabels() should only be used with a fixed number of ticks, i.e. after set_ticks() or using a FixedLocator.\n",
      "  ax.set_xticklabels([''] + list(layers_unique))\n",
      "/tmp/ipykernel_9066/3341687491.py:19: UserWarning: set_ticklabels() should only be used with a fixed number of ticks, i.e. after set_ticks() or using a FixedLocator.\n",
      "  ax.set_yticklabels([''] + list(heads_unique))\n"
     ]
    },
    {
     "data": {
      "image/png": "[encoded data removed]",
      "text/plain": [
       "<Figure size 640x480 with 2 Axes>"
      ]
     },
     "metadata": {},
     "output_type": "display_data"
    }
   ],
   "source": [
    "from mpl_toolkits.mplot3d import Axes3D\n",
    "import numpy as np\n",
    "import matplotlib.pyplot as plt\n",
    "# Reshape accuracy data for heatmap\n",
    "# accuracy_matrix = np.array([score[2] for score in accuracy]).reshape(len(layers_unique), len(heads_unique))\n",
    "\n",
    "print (accuracy)\n",
    "scores = np.array(accuracy) / 10000\n",
    "\n",
    "# Plot heatmap\n",
    "fig, ax = plt.subplots()\n",
    "cax = ax.matshow(scores, cmap='viridis')\n",
    "\n",
    "# Add color bar\n",
    "fig.colorbar(cax)\n",
    "\n",
    "# Set axis labels\n",
    "ax.set_xticklabels([''] + list(layers_unique))\n",
    "ax.set_yticklabels([''] + list(heads_unique))\n",
    "ax.set_xlabel('Layers')\n",
    "ax.set_ylabel('Heads')\n",
    "\n",
    "# Set title\n",
    "plt.title('Accuracy Heatmap')\n",
    "plt.show()"
   ]
  }
 ],
 "metadata": {
  "kernelspec": {
   "display_name": "Python 3",
   "language": "python",
   "name": "python3"
  },
  "language_info": {
   "codemirror_mode": {
    "name": "ipython",
    "version": 3
   },
   "file_extension": ".py",
   "mimetype": "text/x-python",
   "name": "python",
   "nbconvert_exporter": "python",
   "pygments_lexer": "ipython3",
   "version": "3.10.12"
  }
 },
 "nbformat": 4,
 "nbformat_minor": 2
}
